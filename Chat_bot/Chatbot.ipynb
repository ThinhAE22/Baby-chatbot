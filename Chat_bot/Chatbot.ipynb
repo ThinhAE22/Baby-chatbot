{
 "cells": [
  {
   "cell_type": "code",
   "execution_count": 1,
   "id": "7f4fccc4-b762-4eb7-b329-a554afe020c1",
   "metadata": {},
   "outputs": [],
   "source": [
    "import json\n",
    "from difflib import get_close_matches\n",
    "from typing import List, Optional"
   ]
  },
  {
   "cell_type": "code",
   "execution_count": 2,
   "id": "fd726f12-e6a9-417c-a72c-bc7bdb0aeb45",
   "metadata": {},
   "outputs": [
    {
     "name": "stdout",
     "output_type": "stream",
     "text": [
      "['apply', 'ape', 'apple pie']\n"
     ]
    }
   ],
   "source": [
    "# Example usage\n",
    "word = \"apple\"\n",
    "word_list = [\"ape\", \"apple pie\", \"apricot\", \"apply\"]\n",
    "matches = get_close_matches(word, word_list)\n",
    "print(matches)"
   ]
  },
  {
   "cell_type": "code",
   "execution_count": 3,
   "id": "1a6c9892-2713-4af4-bff8-206b1593b506",
   "metadata": {},
   "outputs": [],
   "source": [
    "def load_knowledge_base(file_path: str) -> dict:  # the return type is a dictionary\n",
    "    with open(file_path, 'r') as file:\n",
    "        data: dict = json.load(file)\n",
    "    return data"
   ]
  },
  {
   "cell_type": "code",
   "execution_count": 4,
   "id": "e2015c45-18b5-4daf-8a17-26df1e933778",
   "metadata": {},
   "outputs": [],
   "source": [
    "def save_knowledge_base(file_path: str, data: dict):\n",
    "    with open(file_path, 'w') as file:\n",
    "        json.dump(data, file, indent=2)"
   ]
  },
  {
   "cell_type": "code",
   "execution_count": 5,
   "id": "bc3a8615-f6cd-44d1-8d34-6ba322bf1831",
   "metadata": {},
   "outputs": [],
   "source": [
    "def find_best_match(user_question: str, questions: List[str]) -> Optional[str]:\n",
    "    matches: List[str] = get_close_matches(user_question, questions, n=1, cutoff=0.6)\n",
    "    return matches[0] if matches else None"
   ]
  },
  {
   "cell_type": "code",
   "execution_count": 6,
   "id": "cbdfb649-96cb-47d7-832c-670141fa4eb5",
   "metadata": {},
   "outputs": [],
   "source": [
    "def get_answer_for_question(question: str, knowledge_base: dict) -> Optional[str]:\n",
    "    for q in knowledge_base[\"questions\"]:\n",
    "        if q[\"question\"] == question:\n",
    "            return q[\"answer\"]\n",
    "    return None"
   ]
  },
  {
   "cell_type": "code",
   "execution_count": 7,
   "id": "3b8cf80e-725f-4b0c-ac47-398cb97f14ea",
   "metadata": {},
   "outputs": [],
   "source": [
    "def chat_bot():\n",
    "    knowledge_base: dict = load_knowledge_base('knowledge_base.json')\n",
    "\n",
    "    while True:\n",
    "        user_input: str = input('You: ')\n",
    "\n",
    "        if user_input.lower() == 'quit':\n",
    "            break\n",
    "\n",
    "        # Find the best match for the user input\n",
    "        best_match: Optional[str] = find_best_match(user_input, [q[\"question\"] for q in knowledge_base[\"questions\"]])\n",
    "\n",
    "        if best_match:\n",
    "            answer: Optional[str] = get_answer_for_question(best_match, knowledge_base)\n",
    "            if answer:\n",
    "                print(f'Bot: {answer}')\n",
    "            else:\n",
    "                print('Bot: I don\\'t have an answer for that.')\n",
    "        else:\n",
    "            print('Bot: I don\\'t know the answer. Can you teach me?')\n",
    "            new_answer: str = input('Type the answer or type \"skip\" to skip: ')\n",
    "\n",
    "            # If the user provides a new answer, save it\n",
    "            if new_answer.lower() != 'skip':\n",
    "                # Ensure \"questions\" key exists in the knowledge_base\n",
    "                if \"questions\" not in knowledge_base:\n",
    "                    knowledge_base[\"questions\"] = []\n",
    "\n",
    "                # Add the new question and answer to the knowledge base\n",
    "                knowledge_base[\"questions\"].append({\"question\": user_input, \"answer\": new_answer})\n",
    "                save_knowledge_base('knowledge_base.json', knowledge_base)\n",
    "                print('Bot: Thank you! I have learned a new response.')"
   ]
  },
  {
   "cell_type": "code",
   "execution_count": null,
   "id": "9f75d1c0-a775-45fe-99a2-19842f634d7c",
   "metadata": {},
   "outputs": [
    {
     "name": "stdin",
     "output_type": "stream",
     "text": [
      "You:  How are you mate\n"
     ]
    },
    {
     "name": "stdout",
     "output_type": "stream",
     "text": [
      "Bot: great \n"
     ]
    }
   ],
   "source": [
    "chat_bot()"
   ]
  },
  {
   "cell_type": "code",
   "execution_count": null,
   "id": "0ddbdfcc-4347-4fc9-ae90-758184fd72de",
   "metadata": {},
   "outputs": [],
   "source": []
  }
 ],
 "metadata": {
  "kernelspec": {
   "display_name": "Python 3 (ipykernel)",
   "language": "python",
   "name": "python3"
  },
  "language_info": {
   "codemirror_mode": {
    "name": "ipython",
    "version": 3
   },
   "file_extension": ".py",
   "mimetype": "text/x-python",
   "name": "python",
   "nbconvert_exporter": "python",
   "pygments_lexer": "ipython3",
   "version": "3.8.15"
  }
 },
 "nbformat": 4,
 "nbformat_minor": 5
}
